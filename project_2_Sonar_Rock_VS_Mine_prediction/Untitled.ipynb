{
 "cells": [
  {
   "cell_type": "code",
   "execution_count": null,
   "id": "83c48fa4-f8f0-428b-8eea-f1633eabe5f4",
   "metadata": {},
   "outputs": [],
   "source": [
    "import pandas as pd\n",
    "import numpy as np\n",
    "from sklearn.model_selection import train_test_split\n",
    "from sklearn.linear_model import LogisticRegression"
   ]
  },
  {
   "cell_type": "code",
   "execution_count": null,
   "id": "5d81b013-5023-4b13-854f-9e7714254be3",
   "metadata": {},
   "outputs": [],
   "source": [
    "df=pd.read_csv('Copy of sonar data.csv')"
   ]
  },
  {
   "cell_type": "code",
   "execution_count": null,
   "id": "3a903927-1f26-4ca9-849e-185a47150253",
   "metadata": {},
   "outputs": [],
   "source": [
    "df.head()"
   ]
  },
  {
   "cell_type": "code",
   "execution_count": null,
   "id": "d1e93e70-8330-4997-a69e-f703983c6a6b",
   "metadata": {},
   "outputs": [],
   "source": [
    "df.shape"
   ]
  },
  {
   "cell_type": "code",
   "execution_count": null,
   "id": "4ce36735-729f-48b7-b84f-3ab9b6f9b189",
   "metadata": {},
   "outputs": [],
   "source": [
    "df.describe()"
   ]
  },
  {
   "cell_type": "code",
   "execution_count": null,
   "id": "399c76e5-b104-4b09-b5c2-f9d76596cbf9",
   "metadata": {},
   "outputs": [],
   "source": [
    "df.groupby(\"R\").mean()"
   ]
  },
  {
   "cell_type": "code",
   "execution_count": null,
   "id": "a46ed54e-a64c-4fc9-b718-362f962cd8fd",
   "metadata": {},
   "outputs": [],
   "source": [
    "X=df.drop(\"R\",axis=\"columns\")"
   ]
  },
  {
   "cell_type": "code",
   "execution_count": null,
   "id": "f7d08fcc-4800-4990-838d-b72904d6c2b7",
   "metadata": {},
   "outputs": [],
   "source": [
    "X"
   ]
  },
  {
   "cell_type": "code",
   "execution_count": null,
   "id": "f197b77c-4bbb-4c5c-809c-4a7b063e93ba",
   "metadata": {},
   "outputs": [],
   "source": [
    "y=df.R"
   ]
  },
  {
   "cell_type": "code",
   "execution_count": null,
   "id": "0d3864f3-3599-4daa-8a41-8cf03f258207",
   "metadata": {},
   "outputs": [],
   "source": [
    "y"
   ]
  },
  {
   "cell_type": "code",
   "execution_count": null,
   "id": "af2974e3-a141-4349-aba6-580e31e21245",
   "metadata": {},
   "outputs": [],
   "source": [
    "X_train,X_test,y_train,y_test=train_test_split(X,y,test_size=0.2,random_state=1)\n",
    "model=LogisticRegression()"
   ]
  },
  {
   "cell_type": "code",
   "execution_count": null,
   "id": "a87f3f9b-cdc1-4bf9-99a0-a62f905c1441",
   "metadata": {},
   "outputs": [],
   "source": [
    "len(X_train)"
   ]
  },
  {
   "cell_type": "code",
   "execution_count": null,
   "id": "1555a281-c6fd-464f-a74a-9e61ec496049",
   "metadata": {},
   "outputs": [],
   "source": [
    "model.fit(X_train,y_train)"
   ]
  },
  {
   "cell_type": "code",
   "execution_count": null,
   "id": "1151ce5c-74ee-4bcc-96b6-552657dd3ae2",
   "metadata": {},
   "outputs": [],
   "source": [
    "model.score(X_test,y_test)"
   ]
  },
  {
   "cell_type": "code",
   "execution_count": null,
   "id": "8b1bf480-624a-4bd7-9e1a-c85f37614ce8",
   "metadata": {},
   "outputs": [],
   "source": [
    "model.score(X_train,y_train)"
   ]
  },
  {
   "cell_type": "code",
   "execution_count": null,
   "id": "0fd79aa7-438e-40bc-8946-eec41a8b9ffe",
   "metadata": {},
   "outputs": [],
   "source": [
    "input_data=(0.0200,0.0371,0.0428,0.0207,0.0954,0.0986,0.1539,0.1601,0.3109,0.2111,0.1609,0.1582,0.2238,0.0645,0.0660,0.2273,0.3100,0.2999,0.5078,0.4797,0.5783,0.5071,0.4328,0.5550,0.6711,0.6415,0.7104,0.8080,0.6791,0.3857,0.1307,0.2604,0.5121,0.7547,0.8537,0.8507,0.6692,0.6097,0.4943,0.2744,0.0510,0.2834,0.2825,0.4256,0.2641,0.1386,0.1051,0.1343,0.0383,0.0324,0.0232,0.0027,0.0065,0.0159,0.0072,0.0167,0.0180,0.0084,0.0090,0.0032)"
   ]
  },
  {
   "cell_type": "code",
   "execution_count": null,
   "id": "5b520631-c518-4570-915a-9f756d6c46c7",
   "metadata": {},
   "outputs": [],
   "source": [
    "input_data_as_numpy_array=np.asarray(input_data)"
   ]
  },
  {
   "cell_type": "code",
   "execution_count": null,
   "id": "2245afe2-a13c-4afc-9102-2e3f450923b7",
   "metadata": {},
   "outputs": [],
   "source": [
    "input_data_reshaped=input_data_as_numpy_array.reshape(1,-1)"
   ]
  },
  {
   "cell_type": "code",
   "execution_count": null,
   "id": "4b1f3f76-771e-4bb2-acb9-6e9ca540ba62",
   "metadata": {},
   "outputs": [],
   "source": [
    "model.predict(input_data_reshaped)"
   ]
  },
  {
   "cell_type": "code",
   "execution_count": null,
   "id": "4226c878-4d13-49bf-b0ba-834198f476ac",
   "metadata": {},
   "outputs": [],
   "source": []
  }
 ],
 "metadata": {
  "kernelspec": {
   "display_name": "Python 3 (ipykernel)",
   "language": "python",
   "name": "python3"
  },
  "language_info": {
   "codemirror_mode": {
    "name": "ipython",
    "version": 3
   },
   "file_extension": ".py",
   "mimetype": "text/x-python",
   "name": "python",
   "nbconvert_exporter": "python",
   "pygments_lexer": "ipython3",
   "version": "3.12.3"
  }
 },
 "nbformat": 4,
 "nbformat_minor": 5
}
